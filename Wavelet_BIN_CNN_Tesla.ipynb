{
 "cells": [
  {
   "cell_type": "code",
   "execution_count": null,
   "id": "19b86a5b",
   "metadata": {},
   "outputs": [],
   "source": [
    "import pandas as pd\n",
    "import numpy as np\n",
    "from sklearn.model_selection import train_test_split\n",
    "from tensorflow.keras.models import Sequential\n",
    "from sklearn import preprocessing\n",
    "from keras.layers import LeakyReLU\n",
    "from tensorflow.keras.layers import Conv2D,Flatten,MaxPooling2D,Dropout,MaxPool2D\n",
    "from tensorflow.keras.layers import Dense,GlobalMaxPooling2D\n",
    "from tensorflow.keras.layers import RepeatVector\n",
    "from tensorflow.keras.utils import to_categorical\n",
    "from sklearn.preprocessing import LabelEncoder\n",
    "import matplotlib.pyplot as plt\n",
    "import os\n",
    "import pprint\n",
    "import tensorflow as tf\n",
    "from tensorflow.keras.layers import BatchNormalization\n",
    "import seaborn as sns \n",
    "from sklearn.preprocessing import MinMaxScaler\n",
    "from sklearn.preprocessing import LabelEncoder\n",
    "from sklearn.metrics import mean_squared_error\n",
    "from sklearn.impute import SimpleImputer\n",
    "from sklearn.model_selection import train_test_split\n",
    "from keras.utils.vis_utils import plot_model"
   ]
  },
  {
   "cell_type": "code",
   "execution_count": null,
   "id": "49a2031c",
   "metadata": {},
   "outputs": [],
   "source": [
    "path = \"C:/Users/Lisa/Rezanur/Paper 1/Test 2/Wavelets/\""
   ]
  },
  {
   "cell_type": "code",
   "execution_count": null,
   "id": "cb5c59ca",
   "metadata": {},
   "outputs": [],
   "source": [
    "Concat_Spec = pd.read_csv(path + \"Tesla_Train_Wavelet_Bin.csv\")\n",
    "Concat_Spec.shape"
   ]
  },
  {
   "cell_type": "code",
   "execution_count": null,
   "id": "b176ece3",
   "metadata": {},
   "outputs": [],
   "source": [
    "ss = Concat_Spec.shape[1]\n",
    "stamp = 10"
   ]
  },
  {
   "cell_type": "code",
   "execution_count": null,
   "id": "07c5be12",
   "metadata": {},
   "outputs": [],
   "source": [
    "Final = np.array(Concat_Spec)\n",
    "Final = Final[:120300]\n",
    "print(Final.shape)"
   ]
  },
  {
   "cell_type": "code",
   "execution_count": null,
   "id": "5c274411",
   "metadata": {},
   "outputs": [],
   "source": [
    "X = Final[:, :ss-1]\n",
    "y = Final[:,ss-1]"
   ]
  },
  {
   "cell_type": "code",
   "execution_count": null,
   "id": "988c1369",
   "metadata": {},
   "outputs": [],
   "source": [
    "#Data normalization by scalling\n",
    "scaler = MinMaxScaler(feature_range=(0, 1))\n",
    "X = scaler.fit_transform(X)\n",
    "X.shape"
   ]
  },
  {
   "cell_type": "code",
   "execution_count": null,
   "id": "f022fad8",
   "metadata": {},
   "outputs": [],
   "source": [
    "pd.value_counts(y)"
   ]
  },
  {
   "cell_type": "code",
   "execution_count": null,
   "id": "933932a0",
   "metadata": {},
   "outputs": [],
   "source": [
    "X_trainX = []\n",
    "y_trainX = []\n",
    "strat_time = 0\n",
    "timestamp = 10\n",
    "length = len(Final)\n",
    "\n",
    "for i in range(length):\n",
    "    X_trainX.append(X[strat_time:timestamp])\n",
    "    y_trainX.append(y[timestamp])\n",
    "    \n",
    "    if timestamp >= length-10:\n",
    "        break\n",
    "    \n",
    "    strat_time = strat_time + 1\n",
    "    timestamp = timestamp + 1\n",
    "print(len(X_trainX))\n",
    "print(len(y_trainX))"
   ]
  },
  {
   "cell_type": "code",
   "execution_count": null,
   "id": "2cf198fc",
   "metadata": {},
   "outputs": [],
   "source": [
    "X_train, X_test, y_train, y_test = train_test_split(X_trainX, y_trainX, test_size=0.10, random_state=0)"
   ]
  },
  {
   "cell_type": "code",
   "execution_count": null,
   "id": "7ff88ec9",
   "metadata": {},
   "outputs": [],
   "source": [
    "X_train = np.array(X_train)\n",
    "y_train = np.array(y_train)\n",
    "X_test = np.array(X_test)\n",
    "y_test = np.array(y_test)"
   ]
  },
  {
   "cell_type": "code",
   "execution_count": null,
   "id": "3883ba40",
   "metadata": {},
   "outputs": [],
   "source": [
    "pd.value_counts(y_train)"
   ]
  },
  {
   "cell_type": "code",
   "execution_count": null,
   "id": "c0bed2fb",
   "metadata": {},
   "outputs": [],
   "source": [
    "y_train = to_categorical(y_train, 2)\n",
    "y_test = to_categorical(y_test, 2)"
   ]
  },
  {
   "cell_type": "code",
   "execution_count": null,
   "id": "84c8cf53",
   "metadata": {},
   "outputs": [],
   "source": [
    "print(y_train[0])\n",
    "print(y_test[4])"
   ]
  },
  {
   "cell_type": "code",
   "execution_count": null,
   "id": "6130d9a1",
   "metadata": {},
   "outputs": [],
   "source": [
    "print(X_train.shape)"
   ]
  },
  {
   "cell_type": "code",
   "execution_count": null,
   "id": "f58213df",
   "metadata": {},
   "outputs": [],
   "source": [
    "#Resape data into 3 dimention\n",
    "X_train = np.reshape(X_train, (X_train.shape[0], stamp, ss-1, 1))\n",
    "X_test = np.reshape(X_test, (X_test.shape[0], stamp, ss-1, 1))"
   ]
  },
  {
   "cell_type": "code",
   "execution_count": null,
   "id": "3290976a",
   "metadata": {},
   "outputs": [],
   "source": [
    "print(X_train[0])\n",
    "print('\\n')\n",
    "print(y_train[0])"
   ]
  },
  {
   "cell_type": "code",
   "execution_count": null,
   "id": "37aba7fd",
   "metadata": {},
   "outputs": [],
   "source": [
    "model = Sequential()\n",
    "model.add(Conv2D(32, kernel_size=(3, 3),activation='leaky_relu',padding='same',input_shape=(stamp, ss-1, 1)))\n",
    "model.add(LeakyReLU(alpha=0.1))\n",
    "model.add(MaxPooling2D((2, 2),padding='same'))\n",
    "model.add(Dropout(0.1))\n",
    "\n",
    "model.add(Conv2D(64, (3, 3), activation='relu',padding='same'))\n",
    "model.add(LeakyReLU(alpha=0.1))\n",
    "model.add(MaxPooling2D(pool_size=(2, 2),padding='same'))\n",
    "model.add(Dropout(0.1))\n",
    "\n",
    "model.add(Conv2D(128, (3, 3), activation='relu',padding='same'))\n",
    "model.add(LeakyReLU(alpha=0.1))                  \n",
    "model.add(MaxPooling2D(pool_size=(2, 2),padding='same'))\n",
    "model.add(Dropout(0.1))\n",
    "model.add(Flatten())\n",
    "\n",
    "model.add(Dense(128, activation='relu'))\n",
    "model.add(LeakyReLU(alpha=0.1))           \n",
    "model.add(Dropout(0.1))\n",
    "model.add(Dense(2, activation='sigmoid'))\n",
    "\n",
    "optimizer = tf.keras.optimizers.Adam(learning_rate=0.0001)\n",
    "\n",
    "model.compile(optimizer = optimizer, loss = 'binary_crossentropy', metrics=['acc'])\n",
    "\n",
    "model.summary()"
   ]
  },
  {
   "cell_type": "code",
   "execution_count": null,
   "id": "e8b3f666",
   "metadata": {},
   "outputs": [],
   "source": [
    "cp = tf.keras.callbacks.ModelCheckpoint(filepath=\"Wavelet_BIN_CNN_Tesla.h5\",\n",
    "                               mode='min', monitor='val_loss', verbose=0, save_best_only=True)\n",
    "# define our early stopping\n",
    "early_stop = tf.keras.callbacks.EarlyStopping(\n",
    "    monitor='val_loss',\n",
    "    min_delta=0.0001,\n",
    "    patience=10,\n",
    "    verbose=1, \n",
    "    mode='min',\n",
    "    restore_best_weights=True)"
   ]
  },
  {
   "cell_type": "code",
   "execution_count": null,
   "id": "ff273f02",
   "metadata": {},
   "outputs": [],
   "source": [
    "history = model.fit(X_train, y_train,\n",
    "                    epochs=1250,\n",
    "                    batch_size=64,\n",
    "                    shuffle=False,\n",
    "                    validation_data=(X_test, y_test),\n",
    "                    verbose=1,\n",
    "                    callbacks=[cp, early_stop]\n",
    "                    ).history"
   ]
  },
  {
   "cell_type": "code",
   "execution_count": null,
   "id": "3b1a01ed",
   "metadata": {},
   "outputs": [],
   "source": [
    "# plot the training losses\n",
    "fig, ax = plt.subplots(figsize=(8, 6), dpi=80)\n",
    "ax.plot(model.history.history['loss'], 'b', label='Train', linewidth=2)\n",
    "ax.plot(model.history.history['val_loss'], 'r', label='Validation', linewidth=2)\n",
    "ax.set_title('Model loss', fontsize=16)\n",
    "ax.set_ylabel('Loss (mae)')\n",
    "ax.set_xlabel('Epoch')\n",
    "ax.legend(loc='upper right')\n",
    "plt.show()"
   ]
  },
  {
   "cell_type": "code",
   "execution_count": null,
   "id": "8c070188",
   "metadata": {},
   "outputs": [],
   "source": [
    "Tesla_Normal_Spec = pd.read_csv(path + \"Tesla_Test_Wavelet_Bin.csv\")\n",
    "Tesla_Normal_Spec.shape"
   ]
  },
  {
   "cell_type": "code",
   "execution_count": null,
   "id": "39431160",
   "metadata": {},
   "outputs": [],
   "source": [
    "tesla = np.array(Tesla_Normal_Spec)"
   ]
  },
  {
   "cell_type": "code",
   "execution_count": null,
   "id": "9a3e2b12",
   "metadata": {},
   "outputs": [],
   "source": [
    "X = tesla[:, :ss-1]\n",
    "y = tesla[:,ss-1]"
   ]
  },
  {
   "cell_type": "code",
   "execution_count": null,
   "id": "d9f25efe",
   "metadata": {},
   "outputs": [],
   "source": [
    "#Data normalization by scalling\n",
    "scaler = MinMaxScaler(feature_range=(0, 1))\n",
    "X = scaler.fit_transform(X)\n",
    "X.shape"
   ]
  },
  {
   "cell_type": "code",
   "execution_count": null,
   "id": "7f418c2e",
   "metadata": {},
   "outputs": [],
   "source": [
    "X_test = []\n",
    "y_test = []\n",
    "strat_time = 0\n",
    "timestamp = 10\n",
    "length = len(tesla)\n",
    "\n",
    "for i in range(length):\n",
    "    X_test.append(X[strat_time:timestamp])\n",
    "    y_test.append(y[timestamp])\n",
    "    \n",
    "    if timestamp >= length-10:\n",
    "        break\n",
    "    \n",
    "    strat_time = strat_time + 1\n",
    "    timestamp = timestamp + 1\n",
    "print(len(X_test))\n",
    "print(len(y_test))"
   ]
  },
  {
   "cell_type": "code",
   "execution_count": null,
   "id": "afaf1ced",
   "metadata": {},
   "outputs": [],
   "source": [
    "X_test = np.array(X_test)\n",
    "y_test = np.array(y_test)"
   ]
  },
  {
   "cell_type": "code",
   "execution_count": null,
   "id": "10361a48",
   "metadata": {},
   "outputs": [],
   "source": [
    "#Resape data into 3 dimention\n",
    "X_test = np.reshape(X_test, (X_test.shape[0], stamp, ss-1, 1))"
   ]
  },
  {
   "cell_type": "code",
   "execution_count": null,
   "id": "b8d50293",
   "metadata": {},
   "outputs": [],
   "source": [
    "y_test = to_categorical(y_test, 2)\n",
    "y_test[0]"
   ]
  },
  {
   "cell_type": "code",
   "execution_count": null,
   "id": "6a20923a",
   "metadata": {},
   "outputs": [],
   "source": [
    "from keras.models import load_model\n",
    "\n",
    "# returns a compiled model\n",
    "# identical to the previous one\n",
    "model = load_model('Wavelet_BIN_CNN_Tesla.h5')"
   ]
  },
  {
   "cell_type": "code",
   "execution_count": null,
   "id": "27e602ea",
   "metadata": {},
   "outputs": [],
   "source": [
    "#Prediction\n",
    "pred_x = model.predict(X_test)\n",
    "#obj = scaler.fit(y_pred)\n",
    "#predicted = obj.inverse_transform(y_pred)"
   ]
  },
  {
   "cell_type": "code",
   "execution_count": null,
   "id": "cbba462c",
   "metadata": {},
   "outputs": [],
   "source": [
    "from sklearn.metrics import confusion_matrix\n",
    "\n",
    "y_pred = np.argmax(pred_x, axis=1)\n",
    "# label\n",
    "y_test = np.argmax(y_test, axis=1)\n",
    "#Get the confusion matrix\n",
    "cf_matrix = confusion_matrix(y_test, y_pred)\n",
    "\n",
    "print(cf_matrix)"
   ]
  },
  {
   "cell_type": "code",
   "execution_count": null,
   "id": "44543d64",
   "metadata": {},
   "outputs": [],
   "source": [
    "#group_names = ['True Neg','False Pos','False Neg','True Pos','True Pos','True Pos','True Pos','True Pos','True Pos']\n",
    "\n",
    "group_counts = [\"{0:0.0f}\".format(value) for value in\n",
    "                cf_matrix.flatten()]\n",
    "\n",
    "group_percentages = [\"{0:.2%}\".format(value) for value in\n",
    "                     cf_matrix.flatten()/np.sum(cf_matrix)]\n",
    "\n",
    "labels = [f\"{v1}\\n{v2}\\n\" for v1, v2 in\n",
    "          zip(group_counts,group_percentages)]\n",
    "\n",
    "labels = np.asarray(labels).reshape(2,2)\n",
    "sns.set(rc={'figure.figsize':(15,13)})\n",
    "sns.set(font_scale=1.8) #edited as suggested\n",
    "ax = sns.heatmap(cf_matrix, annot=labels, fmt='', cmap='Blues', cbar=False)\n",
    "\n",
    "\n",
    "ax.set_xlabel('\\n Actual Category', fontname=\"Times New Roman\", size=22,fontweight=\"bold\")\n",
    "ax.set_ylabel('Predicted Category \\n', fontname=\"Times New Roman\", size=22,fontweight=\"bold\");\n",
    "#ax.text(0.2, 2.30, 'Fig. 9. (c) Confusion Matrix CNN Multiclass Classification',fontsize=25,fontweight=\"bold\")\n",
    "\n",
    "## Ticket labels - List must be in alphabetical order\n",
    "ax.xaxis.set_ticklabels([\"Normal\", \"Attack\"],fontweight=\"bold\", fontname=\"Times New Roman\", size=18)\n",
    "ax.yaxis.set_ticklabels([\"Normal\", \"Attack\"],fontweight=\"bold\", fontname=\"Times New Roman\", size=18)\n",
    "ax.xaxis.label.set_color('darkblue')\n",
    "ax.yaxis.label.set_color('darkblue')\n",
    "## Display the visualization of the Confusion Matrix.\n",
    "plt.show()"
   ]
  },
  {
   "cell_type": "code",
   "execution_count": null,
   "id": "4eb256dc",
   "metadata": {},
   "outputs": [],
   "source": [
    "from sklearn.metrics import classification_report\n",
    "class_names = [\"Normal\", \"Attack\"]\n",
    "print(classification_report(y_test, y_pred, target_names=class_names))"
   ]
  },
  {
   "cell_type": "code",
   "execution_count": null,
   "id": "e3f01fc3",
   "metadata": {},
   "outputs": [],
   "source": [
    "from sklearn.metrics import roc_curve, auc\n",
    "false_positive_rate, true_positive_rate, thresholds = roc_curve(y_test, y_pred)\n",
    "roc_auc = auc(false_positive_rate, true_positive_rate)\n",
    "roc_auc"
   ]
  },
  {
   "cell_type": "code",
   "execution_count": null,
   "id": "6cffbaa8",
   "metadata": {},
   "outputs": [],
   "source": [
    "import matplotlib.pyplot as plt\n",
    "sns.set(rc={'figure.figsize':(15,10)})\n",
    "sns.set(font_scale=1.3) #edited as suggested\n",
    "\n",
    "plt.plot(false_positive_rate,true_positive_rate, color='red',label = 'BIN_CNN AUC = %0.2f' % roc_auc)\n",
    "plt.legend(loc = 'lower right')\n",
    "plt.plot([0, 1], [0, 1])\n",
    "\n",
    "plt.xlabel('False Positive Rate(TPR)', fontname=\"Times New Roman\", size=18, fontweight=\"bold\", color='darkblue')\n",
    "plt.ylabel('True Positive Rate (FPR)', fontname=\"Times New Roman\", size=18, fontweight=\"bold\", color='darkblue')\n",
    "plt.text(0.02, -0.22, 'Fig. 10. (c) RUC Score CNN Binary Class Classification Vehicle 4', fontname=\"Times New Roman\",fontsize=25,fontweight=\"bold\")\n",
    "plt.legend(loc=\"lower right\")"
   ]
  },
  {
   "cell_type": "code",
   "execution_count": null,
   "id": "88c378a8",
   "metadata": {},
   "outputs": [],
   "source": []
  },
  {
   "cell_type": "code",
   "execution_count": null,
   "id": "206cedbf",
   "metadata": {},
   "outputs": [],
   "source": []
  }
 ],
 "metadata": {
  "kernelspec": {
   "display_name": "Python 3 (ipykernel)",
   "language": "python",
   "name": "python3"
  },
  "language_info": {
   "codemirror_mode": {
    "name": "ipython",
    "version": 3
   },
   "file_extension": ".py",
   "mimetype": "text/x-python",
   "name": "python",
   "nbconvert_exporter": "python",
   "pygments_lexer": "ipython3",
   "version": "3.9.7"
  }
 },
 "nbformat": 4,
 "nbformat_minor": 5
}
